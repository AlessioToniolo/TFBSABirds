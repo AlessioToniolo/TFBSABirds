{
  "cells": [
    {
      "cell_type": "markdown",
      "metadata": {
        "id": "K3VLp6IP487c"
      },
      "source": [
        "Below is a list of imports we will need to do to run the program"
      ]
    },
    {
      "cell_type": "markdown",
      "source": [
        "Install packages missing from Google Colab"
      ],
      "metadata": {
        "id": "LmmwckxHsG92"
      }
    },
    {
      "cell_type": "code",
      "source": [
        "!pip install tensorflowjs"
      ],
      "metadata": {
        "colab": {
          "base_uri": "https://localhost:8080/"
        },
        "id": "863xfTvXrivx",
        "outputId": "5346ed89-203b-40db-99ae-77d96c1da208"
      },
      "execution_count": null,
      "outputs": [
        {
          "output_type": "stream",
          "name": "stdout",
          "text": [
            "Looking in indexes: https://pypi.org/simple, https://us-python.pkg.dev/colab-wheels/public/simple/\n",
            "Collecting tensorflowjs\n",
            "  Downloading tensorflowjs-4.1.0-py3-none-any.whl (84 kB)\n",
            "\u001b[K     |████████████████████████████████| 84 kB 2.6 MB/s \n",
            "\u001b[?25hCollecting tensorflow<3,>=2.10.0\n",
            "  Downloading tensorflow-2.11.0-cp37-cp37m-manylinux_2_17_x86_64.manylinux2014_x86_64.whl (588.3 MB)\n",
            "\u001b[K     |████████████████████████████████| 588.3 MB 6.5 kB/s \n",
            "\u001b[?25hCollecting flax>=0.5.3\n",
            "  Downloading flax-0.6.2-py3-none-any.whl (189 kB)\n",
            "\u001b[K     |████████████████████████████████| 189 kB 65.5 MB/s \n",
            "\u001b[?25hCollecting tensorflow-decision-forests>=1.0.1\n",
            "  Downloading tensorflow_decision_forests-1.1.0-cp37-cp37m-manylinux_2_17_x86_64.manylinux2014_x86_64.whl (16.2 MB)\n",
            "\u001b[K     |████████████████████████████████| 16.2 MB 52.5 MB/s \n",
            "\u001b[?25hRequirement already satisfied: importlib_resources>=5.9.0 in /usr/local/lib/python3.7/dist-packages (from tensorflowjs) (5.10.0)\n",
            "Requirement already satisfied: six<2,>=1.12.0 in /usr/local/lib/python3.7/dist-packages (from tensorflowjs) (1.15.0)\n",
            "Requirement already satisfied: jax>=0.3.16 in /usr/local/lib/python3.7/dist-packages (from tensorflowjs) (0.3.25)\n",
            "Requirement already satisfied: tensorflow-hub<0.13,>=0.7.0 in /usr/local/lib/python3.7/dist-packages (from tensorflowjs) (0.12.0)\n",
            "Collecting packaging~=20.9\n",
            "  Downloading packaging-20.9-py2.py3-none-any.whl (40 kB)\n",
            "\u001b[K     |████████████████████████████████| 40 kB 6.5 MB/s \n",
            "\u001b[?25hRequirement already satisfied: protobuf<3.20,>=3.9.2 in /usr/local/lib/python3.7/dist-packages (from tensorflowjs) (3.19.6)\n",
            "Requirement already satisfied: matplotlib in /usr/local/lib/python3.7/dist-packages (from flax>=0.5.3->tensorflowjs) (3.2.2)\n",
            "Requirement already satisfied: numpy>=1.12 in /usr/local/lib/python3.7/dist-packages (from flax>=0.5.3->tensorflowjs) (1.21.6)\n",
            "Requirement already satisfied: msgpack in /usr/local/lib/python3.7/dist-packages (from flax>=0.5.3->tensorflowjs) (1.0.4)\n",
            "Requirement already satisfied: typing-extensions>=4.1.1 in /usr/local/lib/python3.7/dist-packages (from flax>=0.5.3->tensorflowjs) (4.1.1)\n",
            "Collecting optax\n",
            "  Downloading optax-0.1.4-py3-none-any.whl (154 kB)\n",
            "\u001b[K     |████████████████████████████████| 154 kB 71.7 MB/s \n",
            "\u001b[?25hCollecting tensorstore\n",
            "  Downloading tensorstore-0.1.28-cp37-cp37m-manylinux_2_17_x86_64.manylinux2014_x86_64.whl (8.3 MB)\n",
            "\u001b[K     |████████████████████████████████| 8.3 MB 58.0 MB/s \n",
            "\u001b[?25hRequirement already satisfied: PyYAML>=5.4.1 in /usr/local/lib/python3.7/dist-packages (from flax>=0.5.3->tensorflowjs) (6.0)\n",
            "Collecting rich>=11.1\n",
            "  Downloading rich-12.6.0-py3-none-any.whl (237 kB)\n",
            "\u001b[K     |████████████████████████████████| 237 kB 76.1 MB/s \n",
            "\u001b[?25hRequirement already satisfied: zipp>=3.1.0 in /usr/local/lib/python3.7/dist-packages (from importlib_resources>=5.9.0->tensorflowjs) (3.10.0)\n",
            "Requirement already satisfied: scipy>=1.5 in /usr/local/lib/python3.7/dist-packages (from jax>=0.3.16->tensorflowjs) (1.7.3)\n",
            "Requirement already satisfied: opt-einsum in /usr/local/lib/python3.7/dist-packages (from jax>=0.3.16->tensorflowjs) (3.3.0)\n",
            "Requirement already satisfied: pyparsing>=2.0.2 in /usr/local/lib/python3.7/dist-packages (from packaging~=20.9->tensorflowjs) (3.0.9)\n",
            "Collecting commonmark<0.10.0,>=0.9.0\n",
            "  Downloading commonmark-0.9.1-py2.py3-none-any.whl (51 kB)\n",
            "\u001b[K     |████████████████████████████████| 51 kB 8.0 MB/s \n",
            "\u001b[?25hRequirement already satisfied: pygments<3.0.0,>=2.6.0 in /usr/local/lib/python3.7/dist-packages (from rich>=11.1->flax>=0.5.3->tensorflowjs) (2.6.1)\n",
            "Requirement already satisfied: wrapt>=1.11.0 in /usr/local/lib/python3.7/dist-packages (from tensorflow<3,>=2.10.0->tensorflowjs) (1.14.1)\n",
            "Collecting flatbuffers>=2.0\n",
            "  Downloading flatbuffers-22.10.26-py2.py3-none-any.whl (26 kB)\n",
            "Requirement already satisfied: setuptools in /usr/local/lib/python3.7/dist-packages (from tensorflow<3,>=2.10.0->tensorflowjs) (57.4.0)\n",
            "Requirement already satisfied: google-pasta>=0.1.1 in /usr/local/lib/python3.7/dist-packages (from tensorflow<3,>=2.10.0->tensorflowjs) (0.2.0)\n",
            "Collecting tensorflow-estimator<2.12,>=2.11.0\n",
            "  Downloading tensorflow_estimator-2.11.0-py2.py3-none-any.whl (439 kB)\n",
            "\u001b[K     |████████████████████████████████| 439 kB 71.9 MB/s \n",
            "\u001b[?25hRequirement already satisfied: termcolor>=1.1.0 in /usr/local/lib/python3.7/dist-packages (from tensorflow<3,>=2.10.0->tensorflowjs) (2.1.0)\n",
            "Collecting tensorboard<2.12,>=2.11\n",
            "  Downloading tensorboard-2.11.0-py3-none-any.whl (6.0 MB)\n",
            "\u001b[K     |████████████████████████████████| 6.0 MB 64.8 MB/s \n",
            "\u001b[?25hCollecting keras<2.12,>=2.11.0\n",
            "  Downloading keras-2.11.0-py2.py3-none-any.whl (1.7 MB)\n",
            "\u001b[K     |████████████████████████████████| 1.7 MB 61.0 MB/s \n",
            "\u001b[?25hRequirement already satisfied: libclang>=13.0.0 in /usr/local/lib/python3.7/dist-packages (from tensorflow<3,>=2.10.0->tensorflowjs) (14.0.6)\n",
            "Requirement already satisfied: grpcio<2.0,>=1.24.3 in /usr/local/lib/python3.7/dist-packages (from tensorflow<3,>=2.10.0->tensorflowjs) (1.50.0)\n",
            "Requirement already satisfied: absl-py>=1.0.0 in /usr/local/lib/python3.7/dist-packages (from tensorflow<3,>=2.10.0->tensorflowjs) (1.3.0)\n",
            "Requirement already satisfied: astunparse>=1.6.0 in /usr/local/lib/python3.7/dist-packages (from tensorflow<3,>=2.10.0->tensorflowjs) (1.6.3)\n",
            "Requirement already satisfied: h5py>=2.9.0 in /usr/local/lib/python3.7/dist-packages (from tensorflow<3,>=2.10.0->tensorflowjs) (3.1.0)\n",
            "Requirement already satisfied: tensorflow-io-gcs-filesystem>=0.23.1 in /usr/local/lib/python3.7/dist-packages (from tensorflow<3,>=2.10.0->tensorflowjs) (0.27.0)\n",
            "Requirement already satisfied: gast<=0.4.0,>=0.2.1 in /usr/local/lib/python3.7/dist-packages (from tensorflow<3,>=2.10.0->tensorflowjs) (0.4.0)\n",
            "Requirement already satisfied: wheel<1.0,>=0.23.0 in /usr/local/lib/python3.7/dist-packages (from astunparse>=1.6.0->tensorflow<3,>=2.10.0->tensorflowjs) (0.38.4)\n",
            "Requirement already satisfied: cached-property in /usr/local/lib/python3.7/dist-packages (from h5py>=2.9.0->tensorflow<3,>=2.10.0->tensorflowjs) (1.5.2)\n",
            "Requirement already satisfied: google-auth-oauthlib<0.5,>=0.4.1 in /usr/local/lib/python3.7/dist-packages (from tensorboard<2.12,>=2.11->tensorflow<3,>=2.10.0->tensorflowjs) (0.4.6)\n",
            "Requirement already satisfied: werkzeug>=1.0.1 in /usr/local/lib/python3.7/dist-packages (from tensorboard<2.12,>=2.11->tensorflow<3,>=2.10.0->tensorflowjs) (1.0.1)\n",
            "Requirement already satisfied: google-auth<3,>=1.6.3 in /usr/local/lib/python3.7/dist-packages (from tensorboard<2.12,>=2.11->tensorflow<3,>=2.10.0->tensorflowjs) (2.14.1)\n",
            "Requirement already satisfied: requests<3,>=2.21.0 in /usr/local/lib/python3.7/dist-packages (from tensorboard<2.12,>=2.11->tensorflow<3,>=2.10.0->tensorflowjs) (2.23.0)\n",
            "Requirement already satisfied: tensorboard-data-server<0.7.0,>=0.6.0 in /usr/local/lib/python3.7/dist-packages (from tensorboard<2.12,>=2.11->tensorflow<3,>=2.10.0->tensorflowjs) (0.6.1)\n",
            "Requirement already satisfied: tensorboard-plugin-wit>=1.6.0 in /usr/local/lib/python3.7/dist-packages (from tensorboard<2.12,>=2.11->tensorflow<3,>=2.10.0->tensorflowjs) (1.8.1)\n",
            "Requirement already satisfied: markdown>=2.6.8 in /usr/local/lib/python3.7/dist-packages (from tensorboard<2.12,>=2.11->tensorflow<3,>=2.10.0->tensorflowjs) (3.4.1)\n",
            "Requirement already satisfied: pyasn1-modules>=0.2.1 in /usr/local/lib/python3.7/dist-packages (from google-auth<3,>=1.6.3->tensorboard<2.12,>=2.11->tensorflow<3,>=2.10.0->tensorflowjs) (0.2.8)\n",
            "Requirement already satisfied: cachetools<6.0,>=2.0.0 in /usr/local/lib/python3.7/dist-packages (from google-auth<3,>=1.6.3->tensorboard<2.12,>=2.11->tensorflow<3,>=2.10.0->tensorflowjs) (5.2.0)\n",
            "Requirement already satisfied: rsa<5,>=3.1.4 in /usr/local/lib/python3.7/dist-packages (from google-auth<3,>=1.6.3->tensorboard<2.12,>=2.11->tensorflow<3,>=2.10.0->tensorflowjs) (4.9)\n",
            "Requirement already satisfied: requests-oauthlib>=0.7.0 in /usr/local/lib/python3.7/dist-packages (from google-auth-oauthlib<0.5,>=0.4.1->tensorboard<2.12,>=2.11->tensorflow<3,>=2.10.0->tensorflowjs) (1.3.1)\n",
            "Requirement already satisfied: importlib-metadata>=4.4 in /usr/local/lib/python3.7/dist-packages (from markdown>=2.6.8->tensorboard<2.12,>=2.11->tensorflow<3,>=2.10.0->tensorflowjs) (4.13.0)\n",
            "Requirement already satisfied: pyasn1<0.5.0,>=0.4.6 in /usr/local/lib/python3.7/dist-packages (from pyasn1-modules>=0.2.1->google-auth<3,>=1.6.3->tensorboard<2.12,>=2.11->tensorflow<3,>=2.10.0->tensorflowjs) (0.4.8)\n",
            "Requirement already satisfied: urllib3!=1.25.0,!=1.25.1,<1.26,>=1.21.1 in /usr/local/lib/python3.7/dist-packages (from requests<3,>=2.21.0->tensorboard<2.12,>=2.11->tensorflow<3,>=2.10.0->tensorflowjs) (1.24.3)\n",
            "Requirement already satisfied: certifi>=2017.4.17 in /usr/local/lib/python3.7/dist-packages (from requests<3,>=2.21.0->tensorboard<2.12,>=2.11->tensorflow<3,>=2.10.0->tensorflowjs) (2022.9.24)\n",
            "Requirement already satisfied: idna<3,>=2.5 in /usr/local/lib/python3.7/dist-packages (from requests<3,>=2.21.0->tensorboard<2.12,>=2.11->tensorflow<3,>=2.10.0->tensorflowjs) (2.10)\n",
            "Requirement already satisfied: chardet<4,>=3.0.2 in /usr/local/lib/python3.7/dist-packages (from requests<3,>=2.21.0->tensorboard<2.12,>=2.11->tensorflow<3,>=2.10.0->tensorflowjs) (3.0.4)\n",
            "Requirement already satisfied: oauthlib>=3.0.0 in /usr/local/lib/python3.7/dist-packages (from requests-oauthlib>=0.7.0->google-auth-oauthlib<0.5,>=0.4.1->tensorboard<2.12,>=2.11->tensorflow<3,>=2.10.0->tensorflowjs) (3.2.2)\n",
            "Requirement already satisfied: pandas in /usr/local/lib/python3.7/dist-packages (from tensorflow-decision-forests>=1.0.1->tensorflowjs) (1.3.5)\n",
            "Collecting wurlitzer\n",
            "  Downloading wurlitzer-3.0.2-py3-none-any.whl (7.3 kB)\n",
            "Requirement already satisfied: kiwisolver>=1.0.1 in /usr/local/lib/python3.7/dist-packages (from matplotlib->flax>=0.5.3->tensorflowjs) (1.4.4)\n",
            "Requirement already satisfied: cycler>=0.10 in /usr/local/lib/python3.7/dist-packages (from matplotlib->flax>=0.5.3->tensorflowjs) (0.11.0)\n",
            "Requirement already satisfied: python-dateutil>=2.1 in /usr/local/lib/python3.7/dist-packages (from matplotlib->flax>=0.5.3->tensorflowjs) (2.8.2)\n",
            "Collecting chex>=0.1.5\n",
            "  Downloading chex-0.1.5-py3-none-any.whl (85 kB)\n",
            "\u001b[K     |████████████████████████████████| 85 kB 5.1 MB/s \n",
            "\u001b[?25hRequirement already satisfied: jaxlib>=0.1.37 in /usr/local/lib/python3.7/dist-packages (from optax->flax>=0.5.3->tensorflowjs) (0.3.25+cuda11.cudnn805)\n",
            "Requirement already satisfied: toolz>=0.9.0 in /usr/local/lib/python3.7/dist-packages (from chex>=0.1.5->optax->flax>=0.5.3->tensorflowjs) (0.12.0)\n",
            "Requirement already satisfied: dm-tree>=0.1.5 in /usr/local/lib/python3.7/dist-packages (from chex>=0.1.5->optax->flax>=0.5.3->tensorflowjs) (0.1.7)\n",
            "Requirement already satisfied: pytz>=2017.3 in /usr/local/lib/python3.7/dist-packages (from pandas->tensorflow-decision-forests>=1.0.1->tensorflowjs) (2022.6)\n",
            "Installing collected packages: tensorflow-estimator, tensorboard, packaging, keras, flatbuffers, commonmark, chex, wurlitzer, tensorstore, tensorflow, rich, optax, tensorflow-decision-forests, flax, tensorflowjs\n",
            "  Attempting uninstall: tensorflow-estimator\n",
            "    Found existing installation: tensorflow-estimator 2.9.0\n",
            "    Uninstalling tensorflow-estimator-2.9.0:\n",
            "      Successfully uninstalled tensorflow-estimator-2.9.0\n",
            "  Attempting uninstall: tensorboard\n",
            "    Found existing installation: tensorboard 2.9.1\n",
            "    Uninstalling tensorboard-2.9.1:\n",
            "      Successfully uninstalled tensorboard-2.9.1\n",
            "  Attempting uninstall: packaging\n",
            "    Found existing installation: packaging 21.3\n",
            "    Uninstalling packaging-21.3:\n",
            "      Successfully uninstalled packaging-21.3\n",
            "  Attempting uninstall: keras\n",
            "    Found existing installation: keras 2.9.0\n",
            "    Uninstalling keras-2.9.0:\n",
            "      Successfully uninstalled keras-2.9.0\n",
            "  Attempting uninstall: flatbuffers\n",
            "    Found existing installation: flatbuffers 1.12\n",
            "    Uninstalling flatbuffers-1.12:\n",
            "      Successfully uninstalled flatbuffers-1.12\n",
            "  Attempting uninstall: tensorflow\n",
            "    Found existing installation: tensorflow 2.9.2\n",
            "    Uninstalling tensorflow-2.9.2:\n",
            "      Successfully uninstalled tensorflow-2.9.2\n",
            "Successfully installed chex-0.1.5 commonmark-0.9.1 flatbuffers-22.10.26 flax-0.6.2 keras-2.11.0 optax-0.1.4 packaging-20.9 rich-12.6.0 tensorboard-2.11.0 tensorflow-2.11.0 tensorflow-decision-forests-1.1.0 tensorflow-estimator-2.11.0 tensorflowjs-4.1.0 tensorstore-0.1.28 wurlitzer-3.0.2\n"
          ]
        }
      ]
    },
    {
      "cell_type": "code",
      "execution_count": null,
      "metadata": {
        "id": "nQHbob-wmxzj",
        "colab": {
          "base_uri": "https://localhost:8080/"
        },
        "outputId": "5f01daa1-f833-4dde-b634-080b9c79cbd2"
      },
      "outputs": [
        {
          "output_type": "stream",
          "name": "stdout",
          "text": [
            "Found GPU at: /device:GPU:0\n"
          ]
        }
      ],
      "source": [
        "import numpy as np\n",
        "import pandas as pd\n",
        "\n",
        "# Make numpy values easier to read.\n",
        "np.set_printoptions(precision=3, suppress=True)\n",
        "\n",
        "import os\n",
        "import PIL\n",
        "import PIL.Image\n",
        "import tensorflow as tf\n",
        "from tensorflow import keras\n",
        "from tensorflow.keras import layers\n",
        "from tensorflow.keras.models import Sequential\n",
        "from tensorflow.keras.layers import Dense, Dropout, Activation, Flatten, Conv2D, MaxPooling2D\n",
        "from keras import optimizers, losses\n",
        "# For data preprocessing\n",
        "from keras.preprocessing.image import ImageDataGenerator\n",
        "import pickle\n",
        "\n",
        "# For Graphing\n",
        "import matplotlib.pyplot as plt\n",
        "\n",
        "# For converting to TFJS\n",
        "import tensorflowjs as tfjs\n",
        "\n",
        "device_name = tf.test.gpu_device_name()\n",
        "if len(device_name) > 0:\n",
        "    print(\"Found GPU at: {}\".format(device_name))\n",
        "else:\n",
        "    device_name = \"/device:CPU:0\"\n",
        "    print(\"No GPU, using {}.\".format(device_name))"
      ]
    },
    {
      "cell_type": "markdown",
      "source": [
        "Create a folder to hold the TF model files"
      ],
      "metadata": {
        "id": "sjEGEGJamjHK"
      }
    },
    {
      "cell_type": "code",
      "source": [
        "!mkdir OUTPUT_MODEL"
      ],
      "metadata": {
        "id": "nznYZyrRmcGH"
      },
      "execution_count": null,
      "outputs": []
    },
    {
      "cell_type": "markdown",
      "metadata": {
        "id": "WKCqLRNH5O0K"
      },
      "source": [
        "Installs Kaggle Dataset into Google Colab (or python notebook)"
      ]
    },
    {
      "cell_type": "code",
      "execution_count": null,
      "metadata": {
        "id": "rRlTUXbGsGtP",
        "colab": {
          "base_uri": "https://localhost:8080/"
        },
        "outputId": "d7631cf5-a0d9-4036-886e-f26ff66fa1a6"
      },
      "outputs": [
        {
          "output_type": "stream",
          "name": "stdout",
          "text": [
            "/usr/local/lib/python3.7/dist-packages/gdown/cli.py:131: FutureWarning: Option `--id` was deprecated in version 4.3.1 and will be removed in 5.0. You don't need to pass it anymore to use a file ID.\n",
            "  category=FutureWarning,\n",
            "Downloading...\n",
            "From: https://drive.google.com/uc?id=1MTD1C7Svz5RtEKv9cdnsRM6P6MySZwLN\n",
            "To: /content/kaggle.json\n",
            "100% 65.0/65.0 [00:00<00:00, 98.3kB/s]\n",
            "Downloading 100-bird-species.zip to /content\n",
            " 61% 1.03G/1.69G [00:51<00:43, 16.4MB/s]"
          ]
        }
      ],
      "source": [
        "! pip install -q kaggle\n",
        "! gdown --id 1MTD1C7Svz5RtEKv9cdnsRM6P6MySZwLN\n",
        "! mkdir ~/.kaggle\n",
        "! cp kaggle.json ~/.kaggle/\n",
        "! chmod 600 ~/.kaggle/kaggle.json\n",
        "! kaggle datasets download -d gpiosenka/100-bird-species\n",
        "! unzip 100-bird-species.zip"
      ]
    },
    {
      "cell_type": "markdown",
      "source": [
        "(OPTIONAL) Hyperparamterization function"
      ],
      "metadata": {
        "id": "sremDSrCmmKC"
      }
    },
    {
      "cell_type": "code",
      "execution_count": null,
      "metadata": {
        "id": "xKSAJOq8QbCQ"
      },
      "outputs": [],
      "source": [
        "def trainer(hyp) :\n",
        "  # create model object\n",
        "  model = keras.Sequential([\n",
        "  #adding first convolutional layer    \n",
        "  keras.layers.Conv2D(\n",
        "      #adding filter \n",
        "      filters=hp.Int('conv_1_filter', min_value=32, max_value=128, step=16),\n",
        "      # adding filter size or kernel size\n",
        "      kernel_size=hp.Choice('conv_1_kernel', values = [3,5]),\n",
        "      #activation function\n",
        "      activation='relu',\n",
        "      input_shape=(150, 150, 3)),\n",
        "  # adding second convolutional layer \n",
        "  keras.layers.Conv2D(\n",
        "      #adding filter \n",
        "      filters=hp.Int('conv_2_filter', min_value=32, max_value=64, step=16),\n",
        "      #adding filter size or kernel size\n",
        "      kernel_size=hp.Choice('conv_2_kernel', values = [3,5]),\n",
        "      #activation function\n",
        "      activation='relu'\n",
        "  ),\n",
        "  # adding flatten layer    \n",
        "  keras.layers.Flatten(),\n",
        "  # adding dense layer    \n",
        "  keras.layers.Dense(\n",
        "      units=hp.Int('dense_1_units', min_value=32, max_value=128, step=16),\n",
        "      activation='relu'\n",
        "  ),\n",
        "  # output layer    \n",
        "  keras.layers.Dense(450, activation='softmax')\n",
        "  ])\n",
        "  #compilation of model\n",
        "  model.compile(optimizer=keras.optimizers.Adam(hp.Choice('learning_rate', values=[1e-2, 1e-3])),\n",
        "            loss='sparse_categorical_crossentropy',\n",
        "            metrics=['accuracy'])\n",
        "  return model"
      ]
    },
    {
      "cell_type": "markdown",
      "source": [
        "Define # of Epochs"
      ],
      "metadata": {
        "id": "RHmzCsCDqPAJ"
      }
    },
    {
      "cell_type": "code",
      "source": [
        "epochs = 30"
      ],
      "metadata": {
        "id": "Ux6YHWGeqQhm"
      },
      "execution_count": null,
      "outputs": []
    },
    {
      "cell_type": "code",
      "execution_count": null,
      "metadata": {
        "id": "7ZHGRyo14HpG",
        "colab": {
          "base_uri": "https://localhost:8080/"
        },
        "outputId": "582c744b-6ef8-4b75-87ba-fa098d295f91"
      },
      "outputs": [
        {
          "metadata": {
            "tags": null
          },
          "name": "stdout",
          "output_type": "stream",
          "text": [
            "Found 70626 images belonging to 450 classes.\n",
            "Found 2250 images belonging to 450 classes.\n"
          ]
        },
        {
          "metadata": {
            "tags": null
          },
          "name": "stderr",
          "output_type": "stream",
          "text": [
            "WARNING:tensorflow:Using a while_loop for converting RngReadAndSkip cause there is no registered converter for this op.\n",
            "WARNING:tensorflow:Using a while_loop for converting Bitcast cause there is no registered converter for this op.\n",
            "WARNING:tensorflow:Using a while_loop for converting Bitcast cause there is no registered converter for this op.\n",
            "WARNING:tensorflow:Using a while_loop for converting StatelessRandomUniformV2 cause there is no registered converter for this op.\n",
            "WARNING:tensorflow:Using a while_loop for converting ImageProjectiveTransformV3 cause there is no registered converter for this op.\n",
            "WARNING:tensorflow:Using a while_loop for converting RngReadAndSkip cause there is no registered converter for this op.\n",
            "WARNING:tensorflow:Using a while_loop for converting Bitcast cause there is no registered converter for this op.\n",
            "WARNING:tensorflow:Using a while_loop for converting Bitcast cause there is no registered converter for this op.\n",
            "WARNING:tensorflow:Using a while_loop for converting StatelessRandomUniformV2 cause there is no registered converter for this op.\n",
            "WARNING:tensorflow:Using a while_loop for converting ImageProjectiveTransformV3 cause there is no registered converter for this op.\n"
          ]
        },
        {
          "output_type": "stream",
          "name": "stdout",
          "text": [
            "Model: \"sequential_1\"\n",
            "_________________________________________________________________\n",
            " Layer (type)                Output Shape              Param #   \n",
            "=================================================================\n",
            " conv2d (Conv2D)             (None, 148, 148, 128)     3584      \n",
            "                                                                 \n",
            " max_pooling2d (MaxPooling2D  (None, 74, 74, 128)      0         \n",
            " )                                                               \n",
            "                                                                 \n",
            " conv2d_1 (Conv2D)           (None, 72, 72, 128)       147584    \n",
            "                                                                 \n",
            " max_pooling2d_1 (MaxPooling  (None, 36, 36, 128)      0         \n",
            " 2D)                                                             \n",
            "                                                                 \n",
            " conv2d_2 (Conv2D)           (None, 34, 34, 128)       147584    \n",
            "                                                                 \n",
            " max_pooling2d_2 (MaxPooling  (None, 17, 17, 128)      0         \n",
            " 2D)                                                             \n",
            "                                                                 \n",
            " conv2d_3 (Conv2D)           (None, 15, 15, 32)        36896     \n",
            "                                                                 \n",
            " max_pooling2d_3 (MaxPooling  (None, 7, 7, 32)         0         \n",
            " 2D)                                                             \n",
            "                                                                 \n",
            " flatten (Flatten)           (None, 1568)              0         \n",
            "                                                                 \n",
            " dropout (Dropout)           (None, 1568)              0         \n",
            "                                                                 \n",
            " dense (Dense)               (None, 512)               803328    \n",
            "                                                                 \n",
            " dense_1 (Dense)             (None, 450)               230850    \n",
            "                                                                 \n",
            "=================================================================\n",
            "Total params: 1,369,826\n",
            "Trainable params: 1,369,826\n",
            "Non-trainable params: 0\n",
            "_________________________________________________________________\n",
            "Epoch 1/30\n",
            "276/276 [==============================] - 175s 557ms/step - loss: 5.5368 - accuracy: 0.0333 - val_loss: 4.4990 - val_accuracy: 0.1276\n",
            "Epoch 2/30\n",
            "276/276 [==============================] - 145s 524ms/step - loss: 4.0871 - accuracy: 0.1879 - val_loss: 3.1581 - val_accuracy: 0.3244\n",
            "Epoch 3/30\n",
            "276/276 [==============================] - 143s 516ms/step - loss: 3.0477 - accuracy: 0.3522 - val_loss: 2.4128 - val_accuracy: 0.4564\n",
            "Epoch 4/30\n",
            "276/276 [==============================] - 141s 511ms/step - loss: 2.4278 - accuracy: 0.4623 - val_loss: 1.8860 - val_accuracy: 0.5591\n",
            "Epoch 5/30\n",
            "276/276 [==============================] - 144s 520ms/step - loss: 1.9955 - accuracy: 0.5446 - val_loss: 1.7389 - val_accuracy: 0.6049\n",
            "Epoch 6/30\n",
            "276/276 [==============================] - 142s 513ms/step - loss: 1.6575 - accuracy: 0.6116 - val_loss: 1.8893 - val_accuracy: 0.5636\n",
            "Epoch 7/30\n",
            "276/276 [==============================] - 142s 513ms/step - loss: 1.3975 - accuracy: 0.6645 - val_loss: 1.4314 - val_accuracy: 0.6520\n",
            "Epoch 8/30\n",
            "276/276 [==============================] - 143s 516ms/step - loss: 1.1783 - accuracy: 0.7088 - val_loss: 1.4738 - val_accuracy: 0.6578\n",
            "Epoch 9/30\n",
            "276/276 [==============================] - 141s 511ms/step - loss: 0.9998 - accuracy: 0.7456 - val_loss: 1.3850 - val_accuracy: 0.6849\n",
            "Epoch 10/30\n",
            "276/276 [==============================] - 141s 510ms/step - loss: 0.8464 - accuracy: 0.7772 - val_loss: 1.3975 - val_accuracy: 0.6764\n",
            "Epoch 11/30\n",
            "276/276 [==============================] - 142s 514ms/step - loss: 0.7216 - accuracy: 0.8051 - val_loss: 1.5612 - val_accuracy: 0.6747\n",
            "Epoch 12/30\n",
            "276/276 [==============================] - 144s 522ms/step - loss: 0.6254 - accuracy: 0.8279 - val_loss: 1.4929 - val_accuracy: 0.6982\n",
            "Epoch 13/30\n",
            "276/276 [==============================] - 140s 507ms/step - loss: 0.5393 - accuracy: 0.8481 - val_loss: 1.5040 - val_accuracy: 0.6951\n",
            "Epoch 14/30\n",
            "276/276 [==============================] - 143s 517ms/step - loss: 0.4720 - accuracy: 0.8653 - val_loss: 1.5687 - val_accuracy: 0.6933\n",
            "Epoch 15/30\n",
            "276/276 [==============================] - 141s 510ms/step - loss: 0.4189 - accuracy: 0.8781 - val_loss: 1.6741 - val_accuracy: 0.6969\n",
            "Epoch 16/30\n",
            "276/276 [==============================] - 140s 508ms/step - loss: 0.3787 - accuracy: 0.8875 - val_loss: 1.7002 - val_accuracy: 0.7116\n",
            "Epoch 17/30\n",
            "276/276 [==============================] - 141s 509ms/step - loss: 0.3337 - accuracy: 0.9006 - val_loss: 1.7772 - val_accuracy: 0.7049\n",
            "Epoch 18/30\n",
            "276/276 [==============================] - 141s 508ms/step - loss: 0.3133 - accuracy: 0.9067 - val_loss: 1.8312 - val_accuracy: 0.6964\n",
            "Epoch 19/30\n",
            "276/276 [==============================] - 139s 504ms/step - loss: 0.2865 - accuracy: 0.9125 - val_loss: 1.9298 - val_accuracy: 0.6942\n",
            "Epoch 20/30\n",
            "276/276 [==============================] - 140s 507ms/step - loss: 0.2637 - accuracy: 0.9204 - val_loss: 1.9161 - val_accuracy: 0.7080\n",
            "Epoch 21/30\n",
            "276/276 [==============================] - 139s 504ms/step - loss: 0.2443 - accuracy: 0.9278 - val_loss: 1.9582 - val_accuracy: 0.7116\n",
            "Epoch 22/30\n",
            "276/276 [==============================] - 141s 511ms/step - loss: 0.2280 - accuracy: 0.9319 - val_loss: 2.0564 - val_accuracy: 0.6973\n",
            "Epoch 23/30\n",
            "276/276 [==============================] - 139s 502ms/step - loss: 0.2147 - accuracy: 0.9355 - val_loss: 2.0034 - val_accuracy: 0.7058\n",
            "Epoch 24/30\n",
            "276/276 [==============================] - 138s 500ms/step - loss: 0.2071 - accuracy: 0.9378 - val_loss: 1.9210 - val_accuracy: 0.7062\n",
            "Epoch 25/30\n",
            "276/276 [==============================] - 140s 508ms/step - loss: 0.1932 - accuracy: 0.9411 - val_loss: 2.1595 - val_accuracy: 0.7027\n",
            "Epoch 26/30\n",
            "276/276 [==============================] - 137s 496ms/step - loss: 0.1885 - accuracy: 0.9434 - val_loss: 2.0683 - val_accuracy: 0.7013\n",
            "Epoch 27/30\n",
            "276/276 [==============================] - 139s 502ms/step - loss: 0.1820 - accuracy: 0.9452 - val_loss: 2.0276 - val_accuracy: 0.7151\n",
            "Epoch 28/30\n",
            "276/276 [==============================] - 140s 506ms/step - loss: 0.1704 - accuracy: 0.9486 - val_loss: 2.1730 - val_accuracy: 0.7031\n",
            "Epoch 29/30\n",
            "276/276 [==============================] - 136s 493ms/step - loss: 0.1637 - accuracy: 0.9515 - val_loss: 2.3747 - val_accuracy: 0.6907\n",
            "Epoch 30/30\n",
            "276/276 [==============================] - 138s 498ms/step - loss: 0.1642 - accuracy: 0.9507 - val_loss: 2.2144 - val_accuracy: 0.7107\n",
            "1/1 [==============================] - 0s 293ms/step\n",
            "This image most likely belongs to ABBOTTS BABBLER with a 0.60 percent confidence.\n"
          ]
        },
        {
          "output_type": "display_data",
          "data": {
            "text/plain": [
              "<Figure size 432x288 with 1 Axes>"
            ],
            "image/png": "[encoded data removed]"
          },
          "metadata": {
            "needs_background": "light"
          }
        }
      ],
      "source": [
        " # Image data from the Kaggle dataset is of the size 224 X 224 X3\n",
        "# Target image size is 150 X 150 X 3 normalized\n",
        "datagen = ImageDataGenerator(rescale=1./255)\n",
        "train_generator = datagen.flow_from_directory(\n",
        "        'train',\n",
        "        target_size=(150, 150),\n",
        "        batch_size=256,\n",
        "        class_mode='categorical')\n",
        "validation_generator = datagen.flow_from_directory(\n",
        "        'valid',\n",
        "        target_size=(150, 150),\n",
        "        batch_size=256,\n",
        "        class_mode='categorical')\n",
        "\n",
        "# (OPTIONAL) using hyperparameterization function\n",
        "#tuner = RandomSearch(trainer,\n",
        "                  #  objective='val_accuracy',\n",
        "                 #   max_trials = 5)\n",
        "# search best parameter\n",
        "#tuner.search(train_df,train_labl,epochs=3,validation_data=(train_df,train_labl))\n",
        "\n",
        "# Create model archeticture\n",
        "data_augmentation = keras.Sequential(\n",
        "  [\n",
        "    layers.RandomFlip(\"horizontal\",\n",
        "                      input_shape=(150, 150,\n",
        "                                  3)),\n",
        "    layers.RandomRotation(0.1),\n",
        "    layers.RandomZoom(0.1),\n",
        "  ]\n",
        ")\n",
        "\n",
        "num_classes = 450;\n",
        "input_shape = (150, 150, 3)\n",
        "with tf.device(device_name):\n",
        "  model = tf.keras.models.Sequential([\n",
        "      #data_augmentation,\n",
        "      # Note the input shape is the desired size of the image 150x150 with 3 bytes color\n",
        "      # This is the first convolution\n",
        "      tf.keras.layers.Conv2D(128, (3,3), activation='relu', input_shape=input_shape),\n",
        "      tf.keras.layers.MaxPooling2D(2, 2),\n",
        "      # The second convolution\n",
        "      tf.keras.layers.Conv2D(128, (3,3), activation='relu'),\n",
        "      tf.keras.layers.MaxPooling2D(2,2),\n",
        "      # The third convolution\n",
        "      tf.keras.layers.Conv2D(128, (3,3), activation='relu'),\n",
        "      tf.keras.layers.MaxPooling2D(2,2),\n",
        "      # The fourth convolution\n",
        "      tf.keras.layers.Conv2D(32, (3,3), activation='relu'),\n",
        "      tf.keras.layers.MaxPooling2D(2,2),\n",
        "      # Flatten the results to feed into a DNN\n",
        "      tf.keras.layers.Flatten(),\n",
        "      tf.keras.layers.Dropout(0.2),\n",
        "      # 512 neuron hidden layer\n",
        "      tf.keras.layers.Dense(512, activation='relu'),\n",
        "      tf.keras.layers.Dense(num_classes, activation='softmax')\n",
        "  ])\n",
        "  model.compile(loss = 'categorical_crossentropy', optimizer='rmsprop', metrics=['accuracy'])\n",
        "\n",
        "#model = tf.keras.models.Sequential([\n",
        " #   tf.keras.layers.Conv2D(75, (3, 3), activation='relu', input_shape=input_shape),\n",
        "  #  tf.keras.layers.MaxPooling2D(2,2),\n",
        "   # tf.keras.layers.Flatten(),\n",
        "    #tf.keras.layers.Dropout(0.5),\n",
        "    #tf.keras.layers.Dense(num_classes, activation='softmax')\n",
        "#])\n",
        "\n",
        "# Other alternative activation functions to use\n",
        "#model.compile(loss = tf.keras.losses.MeanSquaredError(),\n",
        "  #optimizer = tf.keras.optimizers.SGD())\n",
        "\n",
        "model.summary()\n",
        "\n",
        "history = model.fit(\n",
        "  train_generator,\n",
        "  #steps_per_epoch=2000,\n",
        "  epochs=epochs,\n",
        "  validation_data=validation_generator,\n",
        "  verbose=1\n",
        "  #validation_steps=800\n",
        "  )\n",
        "\n",
        "# LOADING INTO TFJS\n",
        "tfjs.converters.save_keras_model(model, \"/content/OUTPUT_MODEL\")\n",
        "\n",
        "# Plot validation accuracy and train accuracy\n",
        "plt.plot(history.history['accuracy'], label='accuracy')\n",
        "plt.plot(history.history['val_accuracy'], label = 'val_accuracy')\n",
        "plt.xlabel('Epoch')\n",
        "plt.ylabel('Accuracy')\n",
        "plt.ylim([0.5, 1])\n",
        "plt.legend(loc='lower right')\n",
        "\n",
        "# Test accuracy of model on random image\n",
        "img = tf.keras.utils.load_img(\n",
        "    \"/content/test/BANANAQUIT/1.jpg\", target_size=(150, 150)\n",
        ")\n",
        "img_array = tf.keras.utils.img_to_array(img)\n",
        "img_array = tf.expand_dims(img_array, 0) # Create a batch\n",
        "\n",
        "predictions = model.predict(img_array)\n",
        "score = tf.nn.softmax(predictions[0])\n",
        "\n",
        "from pandas import *\n",
        "data = read_csv(\"birds.csv\")\n",
        "class_names = data['labels'].tolist()\n",
        "print(\n",
        "    \"This image most likely belongs to {} with a {:.2f} percent confidence.\"\n",
        "    .format(class_names[np.argmax(score)], 100 * np.max(score))\n",
        ")\n",
        "\n",
        "# model.save('birds_v1.h5')"
      ]
    },
    {
      "cell_type": "markdown",
      "source": [
        "Download model files to computer"
      ],
      "metadata": {
        "id": "ShRzZJjjpej9"
      }
    },
    {
      "cell_type": "code",
      "source": [
        "from google.colab import files\n",
        "files.download('/content/OUTPUT_MODEL/') "
      ],
      "metadata": {
        "id": "UndxqKVypgYV",
        "colab": {
          "base_uri": "https://localhost:8080/"
        },
        "outputId": "0b02dc5b-2c5a-44a7-f610-031ea6607fe8"
      },
      "execution_count": null,
      "outputs": [
        {
          "output_type": "display_data",
          "data": {
            "text/plain": [
              "<IPython.core.display.Javascript object>"
            ],
            "application/javascript": [
              "\n",
              "    async function download(id, filename, size) {\n",
              "      if (!google.colab.kernel.accessAllowed) {\n",
              "        return;\n",
              "      }\n",
              "      const div = document.createElement('div');\n",
              "      const label = document.createElement('label');\n",
              "      label.textContent = `Downloading \"${filename}\": `;\n",
              "      div.appendChild(label);\n",
              "      const progress = document.createElement('progress');\n",
              "      progress.max = size;\n",
              "      div.appendChild(progress);\n",
              "      document.body.appendChild(div);\n",
              "\n",
              "      const buffers = [];\n",
              "      let downloaded = 0;\n",
              "\n",
              "      const channel = await google.colab.kernel.comms.open(id);\n",
              "      // Send a message to notify the kernel that we're ready.\n",
              "      channel.send({})\n",
              "\n",
              "      for await (const message of channel.messages) {\n",
              "        // Send a message to notify the kernel that we're ready.\n",
              "        channel.send({})\n",
              "        if (message.buffers) {\n",
              "          for (const buffer of message.buffers) {\n",
              "            buffers.push(buffer);\n",
              "            downloaded += buffer.byteLength;\n",
              "            progress.value = downloaded;\n",
              "          }\n",
              "        }\n",
              "      }\n",
              "      const blob = new Blob(buffers, {type: 'application/binary'});\n",
              "      const a = document.createElement('a');\n",
              "      a.href = window.URL.createObjectURL(blob);\n",
              "      a.download = filename;\n",
              "      div.appendChild(a);\n",
              "      a.click();\n",
              "      div.remove();\n",
              "    }\n",
              "  "
            ]
          },
          "metadata": {}
        },
        {
          "output_type": "display_data",
          "data": {
            "text/plain": [
              "<IPython.core.display.Javascript object>"
            ],
            "application/javascript": [
              "download(\"download_c7740236-4b1f-4b65-a520-97a45e132306\", \"\", 4096)"
            ]
          },
          "metadata": {}
        }
      ]
    }
  ],
  "metadata": {
    "accelerator": "GPU",
    "colab": {
      "provenance": []
    },
    "kernelspec": {
      "display_name": "Python 3",
      "name": "python3"
    },
    "language_info": {
      "name": "python"
    },
    "gpuClass": "standard"
  },
  "nbformat": 4,
  "nbformat_minor": 0
}